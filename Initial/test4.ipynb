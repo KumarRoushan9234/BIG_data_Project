{
 "cells": [
  {
   "cell_type": "code",
   "execution_count": 2,
   "id": "9d71bc0f",
   "metadata": {},
   "outputs": [],
   "source": [
    "from pyspark.sql import SparkSession, Row\n",
    "from pyspark.sql.functions import unix_timestamp, col\n",
    "from pyspark.ml.feature import StringIndexer, VectorAssembler\n",
    "from pyspark.ml.classification import LogisticRegression, RandomForestClassifier, GBTClassifier, DecisionTreeClassifier\n",
    "from pyspark.ml.evaluation import BinaryClassificationEvaluator"
   ]
  },
  {
   "cell_type": "code",
   "execution_count": 3,
   "id": "8627c10a",
   "metadata": {},
   "outputs": [],
   "source": [
    "spark = SparkSession.builder.appName(\"CreditCardFraudDetection\").getOrCreate()\n",
    "fraudTrain = spark.read.csv(\"fraudTrain.csv\", header=True, inferSchema=True)\n",
    "fraudTest = spark.read.csv(\"fraudTest.csv\", header=True, inferSchema=True)"
   ]
  },
  {
   "cell_type": "code",
   "execution_count": 4,
   "id": "fadf2414",
   "metadata": {},
   "outputs": [],
   "source": [
    "drop_cols = ['_c0', 'cc_num', 'first', 'last', 'gender', 'street', 'city', 'state',\n",
    "             'zip', 'job', 'dob', 'trans_num', 'merchant']\n",
    "fraudTrain = fraudTrain.drop(*drop_cols)\n",
    "fraudTest = fraudTest.drop(*drop_cols)"
   ]
  },
  {
   "cell_type": "code",
   "execution_count": 5,
   "id": "4d55485d",
   "metadata": {},
   "outputs": [],
   "source": [
    "fraudTrain = fraudTrain.withColumn(\"trans_date_ts\", unix_timestamp(\"trans_date_trans_time\")).drop(\"trans_date_trans_time\")\n",
    "fraudTest = fraudTest.withColumn(\"trans_date_ts\", unix_timestamp(\"trans_date_trans_time\")).drop(\"trans_date_trans_time\")"
   ]
  },
  {
   "cell_type": "code",
   "execution_count": 6,
   "id": "765512e0",
   "metadata": {},
   "outputs": [],
   "source": [
    "fraudTrain = fraudTrain.filter(fraudTrain[\"category\"].isNotNull()) \n",
    "# Remove rows with null values in \"category\"\n",
    "fraudTest = fraudTest.filter(fraudTest[\"category\"].isNotNull())  \n",
    "# Remove rows with null values in \"category\"\n",
    "\n",
    "# Fill missing values in \"category\" with \"unknown\" if necessary\n",
    "fraudTrain = fraudTrain.fillna({\"category\": \"unknown\"})\n",
    "fraudTest = fraudTest.fillna({\"category\": \"unknown\"})\n"
   ]
  },
  {
   "cell_type": "code",
   "execution_count": 7,
   "id": "411c1d4e",
   "metadata": {},
   "outputs": [],
   "source": [
    "# Ensure \"category\" column is of string type\n",
    "fraudTrain = fraudTrain.withColumn(\"category\", col(\"category\").cast(\"string\"))\n",
    "fraudTest = fraudTest.withColumn(\"category\", col(\"category\").cast(\"string\"))\n",
    "\n",
    "# String Indexing\n",
    "indexer = StringIndexer(inputCol=\"category\", outputCol=\"category_index\", handleInvalid=\"skip\")\n",
    "indexer_model = indexer.fit(fraudTrain)\n",
    "fraudTrain = indexer_model.transform(fraudTrain)\n",
    "fraudTest = indexer_model.transform(fraudTest)"
   ]
  },
  {
   "cell_type": "code",
   "execution_count": 8,
   "id": "a0685423",
   "metadata": {},
   "outputs": [],
   "source": [
    "# 6. Feature Assembly\n",
    "features = ['amt', 'lat', 'long', 'city_pop', 'unix_time', 'merch_lat', 'merch_long', 'trans_date_ts', 'category_index']\n",
    "assembler = VectorAssembler(inputCols=features, outputCol=\"features\")\n",
    "fraudTrain = assembler.transform(fraudTrain).select(\"features\", \"is_fraud\")\n",
    "fraudTest = assembler.transform(fraudTest).select(\"features\", \"is_fraud\")"
   ]
  },
  {
   "cell_type": "code",
   "execution_count": 9,
   "id": "cfb0c66b",
   "metadata": {},
   "outputs": [],
   "source": [
    "# 7. Train Models\n",
    "lr = LogisticRegression(labelCol=\"is_fraud\", featuresCol=\"features\")\n",
    "print(\"Logistic Regression model...Trained\")\n",
    "\n",
    "rf = RandomForestClassifier(labelCol=\"is_fraud\", featuresCol=\"features\", numTrees=50)\n",
    "print(\"Random Forest model...Trained\")\n",
    "\n",
    "gbt = GBTClassifier(labelCol=\"is_fraud\", featuresCol=\"features\", maxIter=20)\n",
    "print(\"Gradient Boosted Trees model...Trained\")\n",
    "\n",
    "dt = DecisionTreeClassifier(labelCol=\"is_fraud\", featuresCol=\"features\")\n",
    "print(\"Decision Tree model...Trained\")\n",
    "\n",
    "lr_model = lr.fit(fraudTrain)\n",
    "rf_model = rf.fit(fraudTrain)\n",
    "gbt_model = gbt.fit(fraudTrain)\n",
    "dt_model = dt.fit(fraudTrain)\n"
   ]
  },
  {
   "cell_type": "code",
   "execution_count": 15,
   "id": "65e354d3",
   "metadata": {},
   "outputs": [
    {
     "name": "stdout",
     "output_type": "stream",
     "text": [
      "Model Evaluation: \n",
      "Logistic Regression AUC: 0.8458159503176068\n",
      "Random Forest AUC: 0.9138470328134222\n",
      "GBT AUC: 0.9855016572411177\n",
      "Decision Tree AUC: 0.7390320633397441\n"
     ]
    }
   ],
   "source": [
    "# 8. Evaluate Models\n",
    "evaluator = BinaryClassificationEvaluator(labelCol=\"is_fraud\")\n",
    "print(\"Model Evaluation: \")\n",
    "print(\"Logistic Regression AUC:\", evaluator.evaluate(lr_model.transform(fraudTest)))\n",
    "print(\"Random Forest AUC:\", evaluator.evaluate(rf_model.transform(fraudTest)))\n",
    "print(\"GBT AUC:\", evaluator.evaluate(gbt_model.transform(fraudTest)))\n",
    "print(\"Decision Tree AUC:\", evaluator.evaluate(dt_model.transform(fraudTest)))\n",
    "\n"
   ]
  },
  {
   "cell_type": "code",
   "execution_count": 11,
   "id": "56c232cc",
   "metadata": {},
   "outputs": [],
   "source": [
    "#Predict user input\n",
    "user_input = {\n",
    "    'amt': 100.0,\n",
    "    'lat': 37.7749,\n",
    "    'long': -122.4194,\n",
    "    'city_pop': 50000,\n",
    "    'unix_time': 1325376018,\n",
    "    'merch_lat': 37.0,\n",
    "    'merch_long': -122.0,\n",
    "    'trans_date_ts': 1577836800,\n",
    "    'category': 'misc_pos'\n",
    "}\n",
    "\n",
    "input_df = spark.createDataFrame([Row(**user_input)])\n",
    "input_df = indexer_model.transform(input_df)\n",
    "input_df = assembler.transform(input_df)\n",
    "\n"
   ]
  },
  {
   "cell_type": "code",
   "execution_count": 12,
   "id": "cb98dd6d",
   "metadata": {},
   "outputs": [
    {
     "name": "stdout",
     "output_type": "stream",
     "text": [
      "Logistic Regression Prediction:\n",
      "+----------+--------------------+\n",
      "|prediction|         probability|\n",
      "+----------+--------------------+\n",
      "|       1.0|[2.55771088320235...|\n",
      "+----------+--------------------+\n",
      "\n",
      "Random Forest Prediction:\n",
      "+----------+--------------------+\n",
      "|prediction|         probability|\n",
      "+----------+--------------------+\n",
      "|       0.0|[0.99660064607331...|\n",
      "+----------+--------------------+\n",
      "\n",
      "GBT Prediction:\n",
      "+----------+--------------------+\n",
      "|prediction|         probability|\n",
      "+----------+--------------------+\n",
      "|       0.0|[0.95626712005716...|\n",
      "+----------+--------------------+\n",
      "\n",
      "Decision Tree Prediction:\n",
      "+----------+--------------------+\n",
      "|prediction|         probability|\n",
      "+----------+--------------------+\n",
      "|       0.0|[0.99962934054242...|\n",
      "+----------+--------------------+\n",
      "\n"
     ]
    }
   ],
   "source": [
    "# Individual Model Predictions\n",
    "print(\"Logistic Regression Prediction:\")\n",
    "lr_model.transform(input_df).select(\"prediction\", \"probability\").show()\n",
    "\n",
    "print(\"Random Forest Prediction:\")\n",
    "rf_model.transform(input_df).select(\"prediction\", \"probability\").show()\n",
    "\n",
    "print(\"GBT Prediction:\")\n",
    "gbt_model.transform(input_df).select(\"prediction\", \"probability\").show()\n",
    "\n",
    "print(\"Decision Tree Prediction:\")\n",
    "dt_model.transform(input_df).select(\"prediction\", \"probability\").show()\n",
    "\n"
   ]
  },
  {
   "cell_type": "code",
   "execution_count": 13,
   "id": "39d2bfbc",
   "metadata": {},
   "outputs": [
    {
     "name": "stdout",
     "output_type": "stream",
     "text": [
      "Ensembled (majority voting) prediction: 0\n"
     ]
    }
   ],
   "source": [
    "# Ensemble (Voting)\n",
    "preds = [\n",
    "    rf_model.transform(input_df).select(\"prediction\").first()[0],\n",
    "    lr_model.transform(input_df).select(\"prediction\").first()[0],\n",
    "    gbt_model.transform(input_df).select(\"prediction\").first()[0],\n",
    "    dt_model.transform(input_df).select(\"prediction\").first()[0],\n",
    "]\n",
    "final_vote = round(sum(preds) / len(preds))\n",
    "print(f\"Ensembled (majority voting) prediction: {final_vote}\")"
   ]
  },
  {
   "cell_type": "code",
   "execution_count": null,
   "id": "c8a9cba1",
   "metadata": {},
   "outputs": [],
   "source": []
  }
 ],
 "metadata": {
  "kernelspec": {
   "display_name": "Python 3",
   "language": "python",
   "name": "python3"
  },
  "language_info": {
   "codemirror_mode": {
    "name": "ipython",
    "version": 3
   },
   "file_extension": ".py",
   "mimetype": "text/x-python",
   "name": "python",
   "nbconvert_exporter": "python",
   "pygments_lexer": "ipython3",
   "version": "3.10.0"
  }
 },
 "nbformat": 4,
 "nbformat_minor": 5
}
