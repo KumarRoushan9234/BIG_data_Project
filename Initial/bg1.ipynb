{
 "cells": [
  {
   "cell_type": "code",
   "execution_count": 2,
   "id": "704178a6",
   "metadata": {},
   "outputs": [],
   "source": [
    "from pyspark.sql import SparkSession\n",
    "\n",
    "spark = SparkSession.builder.appName('CreditCardFraudML').getOrCreate()\n",
    "raw_data = spark.read.csv('fraudTrain.csv', header=True, inferSchema=True)"
   ]
  },
  {
   "cell_type": "code",
   "execution_count": 3,
   "id": "8a3603db",
   "metadata": {},
   "outputs": [
    {
     "name": "stdout",
     "output_type": "stream",
     "text": [
      "root\n",
      " |-- _c0: integer (nullable = true)\n",
      " |-- trans_date_trans_time: timestamp (nullable = true)\n",
      " |-- cc_num: long (nullable = true)\n",
      " |-- merchant: string (nullable = true)\n",
      " |-- category: string (nullable = true)\n",
      " |-- amt: double (nullable = true)\n",
      " |-- first: string (nullable = true)\n",
      " |-- last: string (nullable = true)\n",
      " |-- gender: string (nullable = true)\n",
      " |-- street: string (nullable = true)\n",
      " |-- city: string (nullable = true)\n",
      " |-- state: string (nullable = true)\n",
      " |-- zip: integer (nullable = true)\n",
      " |-- lat: double (nullable = true)\n",
      " |-- long: double (nullable = true)\n",
      " |-- city_pop: integer (nullable = true)\n",
      " |-- job: string (nullable = true)\n",
      " |-- dob: date (nullable = true)\n",
      " |-- trans_num: string (nullable = true)\n",
      " |-- unix_time: integer (nullable = true)\n",
      " |-- merch_lat: double (nullable = true)\n",
      " |-- merch_long: double (nullable = true)\n",
      " |-- is_fraud: integer (nullable = true)\n",
      "\n",
      "+---+---------------------+----------------+--------------------+-------------+------+---------+-------+------+--------------------+--------------+-----+-----+-------+---------+--------+--------------------+----------+--------------------+----------+------------------+-----------+--------+\n",
      "|_c0|trans_date_trans_time|          cc_num|            merchant|     category|   amt|    first|   last|gender|              street|          city|state|  zip|    lat|     long|city_pop|                 job|       dob|           trans_num| unix_time|         merch_lat| merch_long|is_fraud|\n",
      "+---+---------------------+----------------+--------------------+-------------+------+---------+-------+------+--------------------+--------------+-----+-----+-------+---------+--------+--------------------+----------+--------------------+----------+------------------+-----------+--------+\n",
      "|  0|  2019-01-01 00:00:18|2703186189652095|fraud_Rippin, Kub...|     misc_net|  4.97| Jennifer|  Banks|     F|      561 Perry Cove|Moravian Falls|   NC|28654|36.0788| -81.1781|    3495|Psychologist, cou...|1988-03-09|0b242abb623afc578...|1325376018|         36.011293| -82.048315|       0|\n",
      "|  1|  2019-01-01 00:00:44|    630423337322|fraud_Heller, Gut...|  grocery_pos|107.23|Stephanie|   Gill|     F|43039 Riley Green...|        Orient|   WA|99160|48.8878|-118.2105|     149|Special education...|1978-06-21|1f76529f857473494...|1325376044|49.159046999999994|-118.186462|       0|\n",
      "|  2|  2019-01-01 00:00:51|  38859492057661|fraud_Lind-Buckridge|entertainment|220.11|   Edward|Sanchez|     M|594 White Dale Su...|    Malad City|   ID|83252|42.1808| -112.262|    4154|Nature conservati...|1962-01-19|a1a22d70485983eac...|1325376051|         43.150704|-112.154481|       0|\n",
      "|  3|  2019-01-01 00:01:16|3534093764340240|fraud_Kutch, Herm...|gas_transport|  45.0|   Jeremy|  White|     M|9443 Cynthia Cour...|       Boulder|   MT|59632|46.2306|-112.1138|    1939|     Patent attorney|1967-01-12|6b849c168bdad6f86...|1325376076|         47.034331|-112.561071|       0|\n",
      "|  4|  2019-01-01 00:03:06| 375534208663984| fraud_Keeling-Crist|     misc_pos| 41.96|    Tyler| Garcia|     M|    408 Bradley Rest|      Doe Hill|   VA|24433|38.4207| -79.4629|      99|Dance movement ps...|1986-03-28|a41d7549acf907893...|1325376186|         38.674999| -78.632459|       0|\n",
      "+---+---------------------+----------------+--------------------+-------------+------+---------+-------+------+--------------------+--------------+-----+-----+-------+---------+--------+--------------------+----------+--------------------+----------+------------------+-----------+--------+\n",
      "only showing top 5 rows\n",
      "\n"
     ]
    }
   ],
   "source": [
    "raw_data.printSchema()\n",
    "raw_data.show(5)"
   ]
  },
  {
   "cell_type": "code",
   "execution_count": 4,
   "id": "b3980bc4",
   "metadata": {},
   "outputs": [
    {
     "name": "stdout",
     "output_type": "stream",
     "text": [
      "1296675\n",
      "23\n"
     ]
    }
   ],
   "source": [
    "num_rows = raw_data.count()\n",
    "num_columns = len(raw_data.columns)\n",
    "\n",
    "print(num_rows)\n",
    "print(num_columns)"
   ]
  },
  {
   "cell_type": "code",
   "execution_count": 5,
   "id": "2a9d6481",
   "metadata": {},
   "outputs": [
    {
     "name": "stdout",
     "output_type": "stream",
     "text": [
      "Row(_c0=1296670, trans_date_trans_time=datetime.datetime(2020, 6, 21, 12, 12, 8), cc_num=30263540414123, merchant='fraud_Reichel Inc', category='entertainment', amt=15.56, first='Erik', last='Patterson', gender='M', street='162 Jessica Row Apt. 072', city='Hatch', state='UT', zip=84735, lat=37.7175, long=-112.4777, city_pop=258, job='Geoscientist', dob=datetime.date(1961, 11, 24), trans_num='440b587732da4dc1a6395aba5fb41669', unix_time=1371816728, merch_lat=36.841266, merch_long=-111.69076499999998, is_fraud=0)\n",
      "Row(_c0=1296671, trans_date_trans_time=datetime.datetime(2020, 6, 21, 12, 12, 19), cc_num=6011149206456997, merchant='fraud_Abernathy and Sons', category='food_dining', amt=51.7, first='Jeffrey', last='White', gender='M', street='8617 Holmes Terrace Suite 651', city='Tuscarora', state='MD', zip=21790, lat=39.2667, long=-77.5101, city_pop=100, job='Production assistant, television', dob=datetime.date(1979, 12, 11), trans_num='278000d2e0d2277d1de2f890067dcc0a', unix_time=1371816739, merch_lat=38.906881, merch_long=-78.246528, is_fraud=0)\n",
      "Row(_c0=1296672, trans_date_trans_time=datetime.datetime(2020, 6, 21, 12, 12, 32), cc_num=3514865930894695, merchant='fraud_Stiedemann Ltd', category='food_dining', amt=105.93, first='Christopher', last='Castaneda', gender='M', street='1632 Cohen Drive Suite 639', city='High Rolls Mountain Park', state='NM', zip=88325, lat=32.9396, long=-105.8189, city_pop=899, job='Naval architect', dob=datetime.date(1967, 8, 30), trans_num='483f52fe67fabef353d552c1e662974c', unix_time=1371816752, merch_lat=33.619513, merch_long=-105.13052900000001, is_fraud=0)\n",
      "Row(_c0=1296673, trans_date_trans_time=datetime.datetime(2020, 6, 21, 12, 13, 36), cc_num=2720012583106919, merchant='fraud_Reinger, Weissnat and Strosin', category='food_dining', amt=74.9, first='Joseph', last='Murray', gender='M', street='42933 Ryan Underpass', city='Manderson', state='SD', zip=57756, lat=43.3526, long=-102.5411, city_pop=1126, job='Volunteer coordinator', dob=datetime.date(1980, 8, 18), trans_num='d667cdcbadaaed3da3f4020e83591c83', unix_time=1371816816, merch_lat=42.788940000000004, merch_long=-103.24116, is_fraud=0)\n",
      "Row(_c0=1296674, trans_date_trans_time=datetime.datetime(2020, 6, 21, 12, 13, 37), cc_num=4292902571056973207, merchant='fraud_Langosh, Wintheiser and Hyatt', category='food_dining', amt=4.3, first='Jeffrey', last='Smith', gender='M', street='135 Joseph Mountains', city='Sula', state='MT', zip=59871, lat=45.8433, long=-113.8748, city_pop=218, job='Therapist, horticultural', dob=datetime.date(1995, 8, 16), trans_num='8f7c8e4ab7f25875d753b422917c98c9', unix_time=1371816817, merch_lat=46.565983, merch_long=-114.18611000000001, is_fraud=0)\n"
     ]
    }
   ],
   "source": [
    "last_rows = raw_data.tail(5)\n",
    "for row in last_rows:\n",
    "    print(row)"
   ]
  },
  {
   "cell_type": "code",
   "execution_count": 6,
   "id": "855b20a9",
   "metadata": {},
   "outputs": [
    {
     "name": "stdout",
     "output_type": "stream",
     "text": [
      "+-------+-----------------+--------------------+-------------------+-------------+-----------------+-------+-------+-------+--------------------+-------+-------+-----------------+-----------------+------------------+-----------------+------------------+--------------------+--------------------+------------------+------------------+--------------------+\n",
      "|summary|              _c0|              cc_num|           merchant|     category|              amt|  first|   last| gender|              street|   city|  state|              zip|              lat|              long|         city_pop|               job|           trans_num|           unix_time|         merch_lat|        merch_long|            is_fraud|\n",
      "+-------+-----------------+--------------------+-------------------+-------------+-----------------+-------+-------+-------+--------------------+-------+-------+-----------------+-----------------+------------------+-----------------+------------------+--------------------+--------------------+------------------+------------------+--------------------+\n",
      "|  count|          1296675|             1296675|            1296675|      1296675|          1296675|1296675|1296675|1296675|             1296675|1296675|1296675|          1296675|          1296675|           1296675|          1296675|           1296675|             1296675|             1296675|           1296675|           1296675|             1296675|\n",
      "|   mean|         648337.0|4.171920420797207...|               NULL|         NULL|70.35103545607046|   NULL|   NULL|   NULL|                NULL|   NULL|   NULL|48800.67109722945|38.53762161490217|-90.22633537864573|88824.44056297839|              NULL|            Infinity|1.3492436367261226E9|38.537338044699666|-90.22646479897256|0.005788651743883394|\n",
      "| stddev|374317.9744882685|1.308806447000243...|               NULL|         NULL|160.3160385715277|   NULL|   NULL|   NULL|                NULL|   NULL|   NULL|26893.22247648588|5.075808438803937|13.759076946486305|301956.3606887509|              NULL|                 NaN|1.2841278423361162E7|  5.10978836967917|13.771090564792418| 0.07586268973125161|\n",
      "|    min|                0|         60416207185|fraud_Abbott-Rogahn|entertainment|              1.0|  Aaron| Abbott|      F|  000 Jennifer Mills|Achille|     AK|             1257|          20.0271|         -165.6723|               23|Academic librarian|00000ecad06b03d3a...|          1325376018|         19.027785|       -166.671242|                   0|\n",
      "|    max|          1296674| 4992346398065154184|   fraud_Zulauf LLC|       travel|          28948.9|Zachary| Zuniga|      M|99736 Rose Shoals...|Zavalla|     WY|            99783|          66.6933|          -67.9503|          2906700|            Writer|ffffef9d89e7d02d8...|          1371816817|         67.510267|        -66.950902|                   1|\n",
      "+-------+-----------------+--------------------+-------------------+-------------+-----------------+-------+-------+-------+--------------------+-------+-------+-----------------+-----------------+------------------+-----------------+------------------+--------------------+--------------------+------------------+------------------+--------------------+\n",
      "\n"
     ]
    }
   ],
   "source": [
    "raw_data.describe().show()"
   ]
  },
  {
   "cell_type": "code",
   "execution_count": 7,
   "id": "06e1f5f8",
   "metadata": {},
   "outputs": [
    {
     "name": "stdout",
     "output_type": "stream",
     "text": [
      "+---+---------------------+------+--------+--------+---+-----+----+------+------+----+-----+---+---+----+--------+---+---+---------+---------+---------+----------+--------+\n",
      "|_c0|trans_date_trans_time|cc_num|merchant|category|amt|first|last|gender|street|city|state|zip|lat|long|city_pop|job|dob|trans_num|unix_time|merch_lat|merch_long|is_fraud|\n",
      "+---+---------------------+------+--------+--------+---+-----+----+------+------+----+-----+---+---+----+--------+---+---+---------+---------+---------+----------+--------+\n",
      "|  0|                    0|     0|       0|       0|  0|    0|   0|     0|     0|   0|    0|  0|  0|   0|       0|  0|  0|        0|        0|        0|         0|       0|\n",
      "+---+---------------------+------+--------+--------+---+-----+----+------+------+----+-----+---+---+----+--------+---+---+---------+---------+---------+----------+--------+\n",
      "\n"
     ]
    }
   ],
   "source": [
    "from pyspark.sql.functions import count, when, col\n",
    "\n",
    "raw_data.select([count(when(col(c).isNull(), c)).alias(c) for c in raw_data.columns]).show()"
   ]
  },
  {
   "cell_type": "code",
   "execution_count": 8,
   "id": "615fcd14",
   "metadata": {},
   "outputs": [
    {
     "name": "stdout",
     "output_type": "stream",
     "text": [
      "DenseMatrix([[ 1.00000000e+00,  1.76939977e-03,  4.14589540e-02,\n",
      "              -4.82778009e-02, -8.99106682e-03,  3.53664067e-04,\n",
      "              -5.89421349e-02, -4.82519959e-02, -9.81455613e-04],\n",
      "             [ 1.76939977e-03,  1.00000000e+00,  1.84340203e-03,\n",
      "              -1.87475599e-04,  5.81828398e-03, -2.92997831e-04,\n",
      "              -1.87254740e-03, -1.50995346e-04,  2.19403889e-01],\n",
      "             [ 4.14589540e-02,  1.84340203e-03,  1.00000000e+00,\n",
      "              -9.09732122e-01,  7.84670560e-02,  6.70469820e-04,\n",
      "              -1.13561358e-01, -9.08924027e-01, -2.16190728e-03],\n",
      "             [-4.82778009e-02, -1.87475599e-04, -9.09732122e-01,\n",
      "               1.00000000e+00, -5.27146379e-02, -6.41788388e-04,\n",
      "              -1.54518140e-02,  9.99119582e-01,  1.72081275e-03],\n",
      "             [-8.99106682e-03,  5.81828398e-03,  7.84670560e-02,\n",
      "              -5.27146379e-02,  1.00000000e+00, -1.71400250e-03,\n",
      "              -1.54781442e-01, -5.26867904e-02,  2.13590242e-03],\n",
      "             [ 3.53664067e-04, -2.92997831e-04,  6.70469820e-04,\n",
      "              -6.41788388e-04, -1.71400250e-03,  1.00000000e+00,\n",
      "               5.60545753e-04, -6.35162469e-04, -5.07763332e-03],\n",
      "             [-5.89421349e-02, -1.87254740e-03, -1.13561358e-01,\n",
      "              -1.54518140e-02, -1.54781442e-01,  5.60545753e-04,\n",
      "               1.00000000e+00, -1.54309787e-02,  1.74062685e-03],\n",
      "             [-4.82519959e-02, -1.50995346e-04, -9.08924027e-01,\n",
      "               9.99119582e-01, -5.26867904e-02, -6.35162469e-04,\n",
      "              -1.54309787e-02,  1.00000000e+00,  1.72132040e-03],\n",
      "             [-9.81455613e-04,  2.19403889e-01, -2.16190728e-03,\n",
      "               1.72081275e-03,  2.13590242e-03, -5.07763332e-03,\n",
      "               1.74062685e-03,  1.72132040e-03,  1.00000000e+00]])\n"
     ]
    }
   ],
   "source": [
    "from pyspark.ml.stat import Correlation\n",
    "from pyspark.ml.feature import VectorAssembler\n",
    "\n",
    "numeric_columns = ['cc_num', 'amt', 'zip','long','city_pop','unix_time','merch_lat','merch_long','is_fraud']\n",
    "\n",
    "assembler = VectorAssembler(inputCols=numeric_columns, outputCol=\"features\")\n",
    "raw_data_vectorized = assembler.transform(raw_data)\n",
    "\n",
    "correlation_matrix = Correlation.corr(raw_data_vectorized, 'features').head()\n",
    "print(correlation_matrix[0])\n"
   ]
  },
  {
   "cell_type": "code",
   "execution_count": 9,
   "id": "11abe89f",
   "metadata": {},
   "outputs": [
    {
     "name": "stdout",
     "output_type": "stream",
     "text": [
      "+--------+-------+\n",
      "|is_fraud|  count|\n",
      "+--------+-------+\n",
      "|       1|   7506|\n",
      "|       0|1289169|\n",
      "+--------+-------+\n",
      "\n"
     ]
    }
   ],
   "source": [
    "# raw_data.groupBy('category').count().show()\n",
    "# raw_data.groupBy('is_fraud').count().show()\n",
    "\n",
    "# raw_data.printSchema()\n",
    "# raw_data.describe().show()\n",
    "raw_data.select(\"is_fraud\").groupBy(\"is_fraud\").count().show()\n"
   ]
  },
  {
   "cell_type": "code",
   "execution_count": 10,
   "id": "3bfa4ab2",
   "metadata": {},
   "outputs": [],
   "source": [
    "from pyspark.sql.functions import col\n",
    "from pyspark.ml.feature import StringIndexer, VectorAssembler\n",
    "from pyspark.ml import Pipeline"
   ]
  },
  {
   "cell_type": "code",
   "execution_count": 11,
   "id": "da873b0b",
   "metadata": {},
   "outputs": [],
   "source": [
    "# Only keeping relevant columns\n",
    "data = raw_data.select(\n",
    "    'trans_date_trans_time', 'category', 'amt',\n",
    "    'lat', 'long', 'merch_lat', 'merch_long', 'is_fraud'\n",
    ")"
   ]
  },
  {
   "cell_type": "code",
   "execution_count": null,
   "id": "511abfa9",
   "metadata": {},
   "outputs": [
    {
     "data": {
      "text/plain": [
       "[Row(trans_date_trans_time=datetime.datetime(2019, 1, 1, 0, 0, 18), category='misc_net', amt=4.97, lat=36.0788, long=-81.1781, merch_lat=36.011293, merch_long=-82.048315, is_fraud=0),\n",
       " Row(trans_date_trans_time=datetime.datetime(2019, 1, 1, 0, 0, 44), category='grocery_pos', amt=107.23, lat=48.8878, long=-118.2105, merch_lat=49.159046999999994, merch_long=-118.186462, is_fraud=0),\n",
       " Row(trans_date_trans_time=datetime.datetime(2019, 1, 1, 0, 0, 51), category='entertainment', amt=220.11, lat=42.1808, long=-112.262, merch_lat=43.150704, merch_long=-112.154481, is_fraud=0),\n",
       " Row(trans_date_trans_time=datetime.datetime(2019, 1, 1, 0, 1, 16), category='gas_transport', amt=45.0, lat=46.2306, long=-112.1138, merch_lat=47.034331, merch_long=-112.561071, is_fraud=0),\n",
       " Row(trans_date_trans_time=datetime.datetime(2019, 1, 1, 0, 3, 6), category='misc_pos', amt=41.96, lat=38.4207, long=-79.4629, merch_lat=38.674999, merch_long=-78.632459, is_fraud=0)]"
      ]
     },
     "execution_count": 13,
     "metadata": {},
     "output_type": "execute_result"
    }
   ],
   "source": [
    "data.head(5)"
   ]
  },
  {
   "cell_type": "code",
   "execution_count": null,
   "id": "9134c97f",
   "metadata": {},
   "outputs": [],
   "source": []
  }
 ],
 "metadata": {
  "kernelspec": {
   "display_name": "Python 3",
   "language": "python",
   "name": "python3"
  },
  "language_info": {
   "codemirror_mode": {
    "name": "ipython",
    "version": 3
   },
   "file_extension": ".py",
   "mimetype": "text/x-python",
   "name": "python",
   "nbconvert_exporter": "python",
   "pygments_lexer": "ipython3",
   "version": "3.10.0"
  }
 },
 "nbformat": 4,
 "nbformat_minor": 5
}
