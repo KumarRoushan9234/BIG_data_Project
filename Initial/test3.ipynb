{
 "cells": [
  {
   "cell_type": "code",
   "execution_count": 1,
   "id": "303c8f67",
   "metadata": {},
   "outputs": [],
   "source": [
    "from pyspark.sql import SparkSession, Row\n",
    "from pyspark.sql.functions import unix_timestamp\n",
    "from pyspark.ml.feature import StringIndexer, VectorAssembler\n",
    "from pyspark.ml.classification import LogisticRegression, RandomForestClassifier, GBTClassifier, DecisionTreeClassifier\n",
    "from pyspark.ml.evaluation import BinaryClassificationEvaluator"
   ]
  },
  {
   "cell_type": "code",
   "execution_count": 2,
   "id": "0d5f1c33",
   "metadata": {},
   "outputs": [],
   "source": [
    "spark = SparkSession.builder.appName(\"test3CreditCardFraudDetection\").getOrCreate()\n",
    "\n",
    "fraudTrain = spark.read.csv(\"fraudTrain.csv\", header=True, inferSchema=True)\n",
    "fraudTest = spark.read.csv(\"fraudTest.csv\", header=True, inferSchema=True)"
   ]
  },
  {
   "cell_type": "code",
   "execution_count": 3,
   "id": "c86c79ca",
   "metadata": {},
   "outputs": [],
   "source": [
    "drop_cols = ['_c0', 'cc_num', 'first', 'last', 'gender', 'street', 'city', 'state',\n",
    "             'zip', 'job', 'dob', 'trans_num', 'merchant']\n",
    "fraudTrain = fraudTrain.drop(*drop_cols)\n",
    "fraudTest = fraudTest.drop(*drop_cols)"
   ]
  },
  {
   "cell_type": "code",
   "execution_count": null,
   "id": "c4f08d91",
   "metadata": {},
   "outputs": [],
   "source": [
    "#Timestamp conversion\n",
    "\n",
    "fraudTrain = fraudTrain.withColumn(\"trans_date_ts\", unix_timestamp(\"trans_date_trans_time\")).drop(\"trans_date_trans_time\")\n",
    "fraudTest = fraudTest.withColumn(\"trans_date_ts\", unix_timestamp(\"trans_date_trans_time\")).drop(\"trans_date_trans_time\")"
   ]
  },
  {
   "cell_type": "code",
   "execution_count": 5,
   "id": "3a001ddc",
   "metadata": {},
   "outputs": [],
   "source": [
    "# String Indexing\n",
    "indexer = StringIndexer(inputCol=\"category\", outputCol=\"category_index\", handleInvalid=\"keep\")\n",
    "indexer_model = indexer.fit(fraudTrain)\n",
    "fraudTrain = indexer_model.transform(fraudTrain)\n",
    "fraudTest = indexer_model.transform(fraudTest)"
   ]
  },
  {
   "cell_type": "code",
   "execution_count": 6,
   "id": "f1696e0f",
   "metadata": {},
   "outputs": [],
   "source": [
    "# Feature Assembly\n",
    "features = ['amt', 'lat', 'long', 'city_pop', 'unix_time', 'merch_lat', 'merch_long', 'trans_date_ts', 'category_index']\n",
    "assembler = VectorAssembler(inputCols=features, outputCol=\"features\")\n",
    "fraudTrain = assembler.transform(fraudTrain).select(\"features\", \"is_fraud\")\n",
    "fraudTest = assembler.transform(fraudTest).select(\"features\", \"is_fraud\")"
   ]
  },
  {
   "cell_type": "code",
   "execution_count": 7,
   "id": "d5b857c4",
   "metadata": {},
   "outputs": [],
   "source": [
    "# Train Models\n",
    "lr = LogisticRegression(labelCol=\"is_fraud\", featuresCol=\"features\")\n",
    "rf = RandomForestClassifier(labelCol=\"is_fraud\", featuresCol=\"features\", numTrees=50)\n",
    "gbt = GBTClassifier(labelCol=\"is_fraud\", featuresCol=\"features\", maxIter=20)\n",
    "dt = DecisionTreeClassifier(labelCol=\"is_fraud\", featuresCol=\"features\")\n",
    "\n",
    "lr_model = lr.fit(fraudTrain)\n",
    "rf_model = rf.fit(fraudTrain)\n",
    "gbt_model = gbt.fit(fraudTrain)\n",
    "dt_model = dt.fit(fraudTrain)"
   ]
  },
  {
   "cell_type": "code",
   "execution_count": 8,
   "id": "8610a14b",
   "metadata": {},
   "outputs": [
    {
     "name": "stdout",
     "output_type": "stream",
     "text": [
      "Logistic Regression AUC: 0.8458183862789208\n",
      "Random Forest AUC: 0.9064916128862412\n",
      "GBT AUC: 0.9846902016826905\n",
      "Decision Tree AUC: 0.7826415354790967\n"
     ]
    }
   ],
   "source": [
    "#Evaluate Models\n",
    "evaluator = BinaryClassificationEvaluator(labelCol=\"is_fraud\")\n",
    "print(\"Logistic Regression AUC:\", evaluator.evaluate(lr_model.transform(fraudTest)))\n",
    "print(\"Random Forest AUC:\", evaluator.evaluate(rf_model.transform(fraudTest)))\n",
    "print(\"GBT AUC:\", evaluator.evaluate(gbt_model.transform(fraudTest)))\n",
    "print(\"Decision Tree AUC:\", evaluator.evaluate(dt_model.transform(fraudTest)))"
   ]
  },
  {
   "cell_type": "markdown",
   "id": "db27820a",
   "metadata": {},
   "source": [
    "Model Evaluation"
   ]
  },
  {
   "cell_type": "code",
   "execution_count": 17,
   "id": "f49ca17f",
   "metadata": {},
   "outputs": [],
   "source": [
    "# from pyspark.ml.evaluation import MulticlassClassificationEvaluator, RegressionEvaluator\n",
    "\n",
    "# models = {\n",
    "#     \"Logistic Regression\": lr_model,\n",
    "#     \"Random Forest\": rf_model,\n",
    "#     \"GBT\": gbt_model,\n",
    "#     \"Decision Tree\": dt_model\n",
    "# }\n",
    "\n",
    "# metrics_dict = {}\n",
    "\n",
    "# for name, model in models.items():\n",
    "#     predictions = model.transform(fraudTest)\n",
    "\n",
    "#     # Classification Evaluators\n",
    "#     acc_eval = MulticlassClassificationEvaluator(labelCol=\"is_fraud\", predictionCol=\"prediction\", metricName=\"accuracy\")\n",
    "#     prec_eval = MulticlassClassificationEvaluator(labelCol=\"is_fraud\", predictionCol=\"prediction\", metricName=\"weightedPrecision\")\n",
    "#     rec_eval = MulticlassClassificationEvaluator(labelCol=\"is_fraud\", predictionCol=\"prediction\", metricName=\"weightedRecall\")\n",
    "#     f1_eval = MulticlassClassificationEvaluator(labelCol=\"is_fraud\", predictionCol=\"prediction\", metricName=\"f1\")\n",
    "\n",
    "#     # Regression-like Evaluators\n",
    "#     mse_eval = RegressionEvaluator(labelCol=\"is_fraud\", predictionCol=\"prediction\", metricName=\"mse\")\n",
    "#     r2_eval = RegressionEvaluator(labelCol=\"is_fraud\", predictionCol=\"prediction\", metricName=\"r2\")\n",
    "\n",
    "#     # AUC\n",
    "#     auc_eval = BinaryClassificationEvaluator(labelCol=\"is_fraud\", metricName=\"areaUnderROC\")\n",
    "\n",
    "#     # Collect Metrics\n",
    "#     metrics_dict[name] = {\n",
    "#         \"Accuracy\": round(acc_eval.evaluate(predictions), 4),\n",
    "#         \"Precision\": round(prec_eval.evaluate(predictions), 4),\n",
    "#         \"Recall\": round(rec_eval.evaluate(predictions), 4),\n",
    "#         \"F1-Score\": round(f1_eval.evaluate(predictions), 4),\n",
    "#         \"MSE\": round(mse_eval.evaluate(predictions), 4),\n",
    "#         \"R2\": round(r2_eval.evaluate(predictions), 4),\n",
    "#         \"AUC\": round(auc_eval.evaluate(predictions), 4)\n",
    "#     }\n",
    "\n",
    "# import pprint\n",
    "# pprint.pprint(metrics_dict)\n"
   ]
  },
  {
   "cell_type": "code",
   "execution_count": 9,
   "id": "c6df17dc",
   "metadata": {},
   "outputs": [],
   "source": [
    "# Predict for user input\n",
    "user_input = {\n",
    "    'amt': 100.0,\n",
    "    'lat': 37.7749,\n",
    "    'long': -122.4194,\n",
    "    'city_pop': 50000,\n",
    "    'unix_time': 1325376018,\n",
    "    'merch_lat': 37.0,\n",
    "    'merch_long': -122.0,\n",
    "    'trans_date_ts': 1577836800,\n",
    "    'category': 'misc_pos'\n",
    "}\n",
    "\n",
    "input_df = spark.createDataFrame([Row(**user_input)])\n",
    "input_df = indexer_model.transform(input_df)\n",
    "input_df = assembler.transform(input_df)"
   ]
  },
  {
   "cell_type": "code",
   "execution_count": 10,
   "id": "4fdc09d2",
   "metadata": {},
   "outputs": [
    {
     "name": "stdout",
     "output_type": "stream",
     "text": [
      "Logistic Regression Prediction:\n",
      "+----------+--------------------+\n",
      "|prediction|         probability|\n",
      "+----------+--------------------+\n",
      "|       1.0|[2.55771090264348...|\n",
      "+----------+--------------------+\n",
      "\n",
      "Random Forest Prediction:\n",
      "+----------+--------------------+\n",
      "|prediction|         probability|\n",
      "+----------+--------------------+\n",
      "|       0.0|[0.99648296591945...|\n",
      "+----------+--------------------+\n",
      "\n",
      "GBT Prediction:\n",
      "+----------+--------------------+\n",
      "|prediction|         probability|\n",
      "+----------+--------------------+\n",
      "|       0.0|[0.95642324394935...|\n",
      "+----------+--------------------+\n",
      "\n",
      "Decision Tree Prediction:\n",
      "+----------+--------------------+\n",
      "|prediction|         probability|\n",
      "+----------+--------------------+\n",
      "|       0.0|[0.99955450010580...|\n",
      "+----------+--------------------+\n",
      "\n"
     ]
    }
   ],
   "source": [
    "# Individual Model Predictions\n",
    "print(\"Logistic Regression Prediction:\")\n",
    "lr_model.transform(input_df).select(\"prediction\", \"probability\").show()\n",
    "\n",
    "print(\"Random Forest Prediction:\")\n",
    "rf_model.transform(input_df).select(\"prediction\", \"probability\").show()\n",
    "\n",
    "print(\"GBT Prediction:\")\n",
    "gbt_model.transform(input_df).select(\"prediction\", \"probability\").show()\n",
    "\n",
    "print(\"Decision Tree Prediction:\")\n",
    "dt_model.transform(input_df).select(\"prediction\", \"probability\").show()"
   ]
  },
  {
   "cell_type": "code",
   "execution_count": 11,
   "id": "83475333",
   "metadata": {},
   "outputs": [
    {
     "name": "stdout",
     "output_type": "stream",
     "text": [
      "Ensembled (majority voting) prediction: 0\n"
     ]
    }
   ],
   "source": [
    "# Ensemble (Voting)\n",
    "preds = [\n",
    "    rf_model.transform(input_df).select(\"prediction\").first()[0],\n",
    "    lr_model.transform(input_df).select(\"prediction\").first()[0],\n",
    "    gbt_model.transform(input_df).select(\"prediction\").first()[0],\n",
    "    dt_model.transform(input_df).select(\"prediction\").first()[0],\n",
    "]\n",
    "final_vote = round(sum(preds) / len(preds))\n",
    "print(f\"Ensembled (majority voting) prediction: {final_vote}\")"
   ]
  },
  {
   "cell_type": "code",
   "execution_count": null,
   "id": "98eacc84",
   "metadata": {},
   "outputs": [],
   "source": [
    "\n"
   ]
  },
  {
   "cell_type": "code",
   "execution_count": null,
   "id": "00fd9e6d",
   "metadata": {},
   "outputs": [],
   "source": []
  }
 ],
 "metadata": {
  "kernelspec": {
   "display_name": "Python 3",
   "language": "python",
   "name": "python3"
  },
  "language_info": {
   "codemirror_mode": {
    "name": "ipython",
    "version": 3
   },
   "file_extension": ".py",
   "mimetype": "text/x-python",
   "name": "python",
   "nbconvert_exporter": "python",
   "pygments_lexer": "ipython3",
   "version": "3.10.0"
  }
 },
 "nbformat": 4,
 "nbformat_minor": 5
}
